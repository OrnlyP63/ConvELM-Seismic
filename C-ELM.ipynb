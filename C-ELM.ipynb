{
 "cells": [
  {
   "cell_type": "code",
   "execution_count": 1,
   "id": "1b0a19d2-dd90-4ff7-b132-69699e6942c3",
   "metadata": {},
   "outputs": [],
   "source": [
    "import torch\n",
    "import torch.nn as nn\n",
    "import torch.nn.functional as F\n",
    "import torch.optim as optim\n",
    "from torch.utils.data import Dataset, DataLoader\n",
    "\n",
    "from torch.autograd import Variable\n",
    "import time\n",
    "\n",
    "import joblib"
   ]
  },
  {
   "cell_type": "code",
   "execution_count": 2,
   "id": "1367b4b3-6252-4fdf-9747-b5302dc2ebd2",
   "metadata": {},
   "outputs": [],
   "source": [
    "cuda = torch.cuda.is_available()"
   ]
  },
  {
   "cell_type": "markdown",
   "id": "d6def6ab-1cbf-4b83-95ff-53b7be1c89ea",
   "metadata": {},
   "source": [
    "# Dataset"
   ]
  },
  {
   "cell_type": "code",
   "execution_count": 3,
   "id": "7b58a490-4864-4b2c-adfb-ab829c593a6f",
   "metadata": {},
   "outputs": [],
   "source": [
    "class EQDataset(Dataset):\n",
    "    def __init__(self, data_dir, transform=None):\n",
    "        self.transform = transform\n",
    "        self.data_dir = data_dir\n",
    "        train_x, train_y = joblib.load(data_dir)\n",
    "        self.train_x, self.train_y = torch.tensor(train_x, dtype = torch.float), torch.tensor(train_y, dtype = torch.float)\n",
    "        self.len = self.train_x.shape[0]\n",
    "        \n",
    "    def __len__(self):\n",
    "        return self.len\n",
    "    \n",
    "    def __getitem__(self, idx):\n",
    "        \n",
    "        X = self.train_x[idx]\n",
    "        y = self.train_y[idx]\n",
    "\n",
    "        if self.transform:\n",
    "            X = self.transform(X)\n",
    "            \n",
    "        return X, y"
   ]
  },
  {
   "cell_type": "markdown",
   "id": "383a31b7-6658-47ef-a6f6-418c01059b27",
   "metadata": {},
   "source": [
    "# Model"
   ]
  },
  {
   "cell_type": "code",
   "execution_count": 4,
   "id": "0be04c32-e7b4-4802-bb48-396358b6ed00",
   "metadata": {},
   "outputs": [],
   "source": [
    "class Net(nn.Module):\n",
    "    def __init__(self):\n",
    "        super(Net, self).__init__()\n",
    "        self.conv1 = nn.Conv1d(3, 5, kernel_size=5)\n",
    "        self.maxP1 = nn.MaxPool1d(5, stride=2)\n",
    "        self.lin = nn.Linear(246 * 5, 2, bias=False)\n",
    "        \n",
    "    def forward(self, x):\n",
    "        x = self.conv1(x)\n",
    "        x = self.maxP1(x)\n",
    "        x = F.leaky_relu(x)\n",
    "        x = x.view(-1, self.num_flat_features(x))\n",
    "        x = self.lin(x)\n",
    "        \n",
    "        return x\n",
    "    \n",
    "    def forwardToHidden(self, x):\n",
    "        x = self.conv1(x)\n",
    "        x = self.maxP1(x)\n",
    "        x = F.leaky_relu(x)\n",
    "        x = x.view(-1, self.num_flat_features(x))\n",
    "        \n",
    "        return x\n",
    "    \n",
    "    def num_flat_features(self, x):\n",
    "        size = x.size()[1:]  # all dimensions except the batch dimension\n",
    "        num_features = 1\n",
    "        for s in size:\n",
    "            num_features *= s\n",
    "        return num_features"
   ]
  },
  {
   "cell_type": "markdown",
   "id": "30b8fc40-6401-460f-ae06-c329aac61f9d",
   "metadata": {},
   "source": [
    "# Optimizer"
   ]
  },
  {
   "cell_type": "code",
   "execution_count": 5,
   "id": "8a8c2c57-b1d9-4118-9532-c25fc6d115eb",
   "metadata": {},
   "outputs": [],
   "source": [
    "class pseudoInverse(object):\n",
    "    def __init__(self, params, C = 1e-2, L = 100):\n",
    "        self.C = C\n",
    "        self.L = L\n",
    "        \n",
    "        self.params = list(params)\n",
    "        self.w = self.params[-1]\n",
    "        self.w.data.fill_(0)\n",
    "        self.cuda = self.w.is_cuda\n",
    "        self.dimOutput, self.dimInput = self.w.data.size()\n",
    "        \n",
    "    def pseudoSparse(self, H, oneHotTarget):\n",
    "        hth = torch.mm(H.t(), H) #[n_hidden, n_hidden]\n",
    "        dimHidden = H.size()[1]\n",
    "        I = Variable(torch.eye(dimHidden), requires_grad = False)\n",
    "        if self.cuda:\n",
    "            I = I.cuda()\n",
    "        \n",
    "        if self.L > 0.0:\n",
    "            mu = torch.mean(H, dim = 0, keepdim = True) #[1, n_features]\n",
    "            S = H - mu\n",
    "            S = torch.mm(S.t(), S)\n",
    "            self.B = Variable(torch.inverse(hth.data + self.C * (I.data + self.L * S)), requires_grad = False)\n",
    "        else:\n",
    "            self.B = Variable(torch.inverse(hth.data + self.C * I.data), requires_grad = False)\n",
    "            \n",
    "        w = torch.mm(self.B, H.t())\n",
    "        # print('B: ', self.B.shape)\n",
    "        # print('H: ', H.shape)\n",
    "        # print('Y: ', oneHotTarget.shape)\n",
    "\n",
    "        w = torch.mm(w, oneHotTarget)\n",
    "        self.w.data = w.t().data\n",
    "    \n",
    "    def pseudoCompress(self, H, oneHotTarget):\n",
    "        hht = torch.mm(H, H.t()) #[n_features, n_features]\n",
    "        numSample = H.size()[0]\n",
    "        I = Variable(torch.eye(numSample), requires_grad = False)\n",
    "        if self.cuda:\n",
    "            I = I.cuda()\n",
    "            \n",
    "        self.B = Variable(torch.inverse(hht.data + self.C * I.data), requires_grad = False)\n",
    "        w = torch.mm(H.t(), self.B)\n",
    "        w = torch.mm(w, oneHotTarget)\n",
    "        self.w.data = w.t().data\n",
    "        \n",
    "    def get_hidden(self, hidden):\n",
    "        return {'sparse':self.pseudoSparse, 'compress':self.pseudoCompress}[hidden]\n",
    "    \n",
    "    \n",
    "    def train(self, H, y, oneHot = True, hiddenType = 'sparse'):\n",
    "        y = y.view(y.size(0),-1)\n",
    "        \n",
    "        if oneHot:\n",
    "            oneHotTarget = self.oneHotVectorize(y)\n",
    "            \n",
    "        hidden = self.get_hidden(hiddenType)\n",
    "        hidden(H, oneHotTarget)\n",
    "\n",
    "        \n",
    "    def oneHotVectorize(self,targets):\n",
    "        oneHotTarget = torch.zeros(targets.size()[0], self.dimOutput)\n",
    "\n",
    "        for i in range(targets.size()[0]):\n",
    "            oneHotTarget[i][int(targets[i].item())] = 1\n",
    "\n",
    "        if self.cuda:\n",
    "            oneHotTarget=oneHotTarget.cuda()\n",
    "            \n",
    "        oneHotTarget = Variable(oneHotTarget, requires_grad=False)\n",
    "\n",
    "        return oneHotTarget"
   ]
  },
  {
   "cell_type": "markdown",
   "id": "7f3f1422-4d5e-40af-9320-af43720b5406",
   "metadata": {},
   "source": [
    "# Load Data"
   ]
  },
  {
   "cell_type": "code",
   "execution_count": 6,
   "id": "11c7960d-86c2-4f6f-bed0-d469b3e18f31",
   "metadata": {},
   "outputs": [],
   "source": [
    "train_dir = f'../ISMP/dataset/trainset_v2_500_label4.jb'\n",
    "test_dir = f'../ISMP/dataset/testing_500_label4.jb'\n",
    "\n",
    "train_datasets = EQDataset(train_dir)\n",
    "test_datasets = EQDataset(test_dir)\n",
    "\n",
    "X_train, y_train = train_datasets[:]\n",
    "X_test, y_test = test_datasets[:]"
   ]
  },
  {
   "cell_type": "markdown",
   "id": "de1ab882-d90a-42ff-8076-ebd0259696b1",
   "metadata": {},
   "source": [
    "# Train"
   ]
  },
  {
   "cell_type": "code",
   "execution_count": 7,
   "id": "d292a468-866a-4522-8bad-f9ef902d2c8e",
   "metadata": {},
   "outputs": [],
   "source": [
    "model = Net()\n",
    "if cuda:\n",
    "    model.cuda()\n",
    "optimizer= pseudoInverse(params=model.parameters(), C = 0.01, L = 0)"
   ]
  },
  {
   "cell_type": "code",
   "execution_count": 8,
   "id": "d9ef44a8-304b-446b-b722-09fafd7d2075",
   "metadata": {
    "tags": []
   },
   "outputs": [
    {
     "name": "stdout",
     "output_type": "stream",
     "text": [
      "tensor(0.9035)\n",
      "Wall time: 2.44 s\n"
     ]
    }
   ],
   "source": [
    "%%time\n",
    "X_train, y_train = X_train.cuda(), y_train.cuda()\n",
    "X_train, y_train = Variable(X_train, requires_grad=False), Variable(y_train, requires_grad=False)\n",
    "\n",
    "hiddenOut = model.forwardToHidden(X_train)\n",
    "optimizer.train(hiddenOut, y_train)\n",
    "output = model.forward(X_train)\n",
    "pred = output.data.max(1)[1]\n",
    "score_train = pred.eq(y_train.data).cpu().sum()\n",
    "print(score_train / y_train.shape[0])"
   ]
  },
  {
   "cell_type": "markdown",
   "id": "97f098a2-60fb-46a1-8126-92d6d0487c33",
   "metadata": {},
   "source": [
    "# Test"
   ]
  },
  {
   "cell_type": "code",
   "execution_count": 9,
   "id": "cadd141e-08b9-444c-ab98-0bba53a0ae3a",
   "metadata": {},
   "outputs": [
    {
     "name": "stdout",
     "output_type": "stream",
     "text": [
      "tensor(0.9555)\n"
     ]
    }
   ],
   "source": [
    "X_test, y_test = X_test.cuda(), y_test.cuda()\n",
    "X_train, y_test = Variable(X_test, requires_grad=False), Variable(y_test, requires_grad=False)\n",
    "\n",
    "output = model.forward(X_test)\n",
    "pred = output.data.max(1)[1]\n",
    "score_test = pred.eq(y_test.data).cpu().sum()\n",
    "print(score_test / y_test.shape[0])"
   ]
  },
  {
   "cell_type": "code",
   "execution_count": 10,
   "id": "823109f4-ec06-43b3-8380-e047d57463ce",
   "metadata": {},
   "outputs": [],
   "source": [
    "from sklearn.metrics import confusion_matrix\n",
    "from sklearn.metrics import precision_score, recall_score, f1_score, accuracy_score"
   ]
  },
  {
   "cell_type": "code",
   "execution_count": 11,
   "id": "84b6b8de-da1d-41c3-9906-77df5517c4e4",
   "metadata": {},
   "outputs": [],
   "source": [
    "y_pred = pred.cpu().numpy()\n",
    "y_test = y_test.cpu().numpy()"
   ]
  },
  {
   "cell_type": "code",
   "execution_count": 12,
   "id": "7717f3e0-1eb2-49fb-9f0b-26095b0520d0",
   "metadata": {},
   "outputs": [
    {
     "name": "stdout",
     "output_type": "stream",
     "text": [
      "Precision: 0.268\n",
      "Recall: 0.788\n",
      "F1: 0.400\n",
      "Accuracy: 0.955\n"
     ]
    }
   ],
   "source": [
    "print('Precision: %.3f' % precision_score(y_test, y_pred))\n",
    "print('Recall: %.3f' % recall_score(y_test, y_pred))\n",
    "print('F1: %.3f' % f1_score(y_test, y_pred))\n",
    "print('Accuracy: %.3f' % accuracy_score(y_test, y_pred))"
   ]
  },
  {
   "cell_type": "code",
   "execution_count": null,
   "id": "4b888498-8572-4430-ab86-7bb69b09058b",
   "metadata": {},
   "outputs": [],
   "source": []
  }
 ],
 "metadata": {
  "kernelspec": {
   "display_name": "AIML",
   "language": "python",
   "name": "aiml"
  },
  "language_info": {
   "codemirror_mode": {
    "name": "ipython",
    "version": 3
   },
   "file_extension": ".py",
   "mimetype": "text/x-python",
   "name": "python",
   "nbconvert_exporter": "python",
   "pygments_lexer": "ipython3",
   "version": "3.8.12"
  }
 },
 "nbformat": 4,
 "nbformat_minor": 5
}
