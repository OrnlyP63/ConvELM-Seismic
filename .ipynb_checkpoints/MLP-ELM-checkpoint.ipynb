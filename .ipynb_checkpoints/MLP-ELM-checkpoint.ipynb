{
 "cells": [
  {
   "cell_type": "code",
   "execution_count": 1,
   "id": "446e8e9f-391e-45ba-b17d-ec398097f4e3",
   "metadata": {},
   "outputs": [],
   "source": [
    "from __future__ import print_function\n",
    "import argparse\n",
    "import torch\n",
    "import torch.utils.data.dataloader\n",
    "import torch.nn as nn\n",
    "import torch.nn.functional as F\n",
    "import torch.optim as optim\n",
    "from torch.nn.utils.parametrizations import orthogonal\n",
    "\n",
    "from torchvision import datasets, transforms\n",
    "from torch.autograd import Variable\n",
    "import time\n",
    "#import torch.legacy.nn as legacy_nn"
   ]
  },
  {
   "cell_type": "code",
   "execution_count": 2,
   "id": "bdca7e40-9e19-4fcc-bb99-dcdef012ce1f",
   "metadata": {},
   "outputs": [],
   "source": [
    "from torch.utils.data import Dataset, DataLoader\n",
    "import joblib"
   ]
  },
  {
   "cell_type": "code",
   "execution_count": 3,
   "id": "33ddc58d-9f62-4bbc-b237-db16203af4c1",
   "metadata": {},
   "outputs": [],
   "source": [
    "cuda = torch.cuda.is_available()"
   ]
  },
  {
   "cell_type": "code",
   "execution_count": 4,
   "id": "a4c11a89-d25e-4cfc-99af-e66cab98ecf2",
   "metadata": {},
   "outputs": [],
   "source": [
    "# class Net(nn.Module):\n",
    "    \n",
    "#     def __init__(self,input_size, output_size):\n",
    "#         super(Net, self).__init__()\n",
    "#         self.fc1 = nn.Linear(input_size, output_size)\n",
    "#         self.activation = getattr(F, activation)\n",
    "        \n",
    "#         if activation in ['relu', 'leaky_relu']:\n",
    "#             torch.nn.init.xavier_uniform_(self.fc1.weight,gain=nn.init.calculate_gain(activation))\n",
    "#         else:\n",
    "#             torch.nn.init.xavier_uniform_(self.fc1.weight, gain=1)\n",
    "        \n",
    "#     def forward(self, x):\n",
    "#         x = x.view(x.size(0), -1)\n",
    "#         x = self.fc1(x)\n",
    "        \n",
    "#         return x"
   ]
  },
  {
   "cell_type": "code",
   "execution_count": 5,
   "id": "c509b474-3a01-4230-87aa-31900962547f",
   "metadata": {},
   "outputs": [],
   "source": [
    "class AENet(nn.Module):\n",
    "    \n",
    "    def __init__(self,input_size, hidden_size = 1000, activation = 'leaky_relu'):\n",
    "        super(AENet, self).__init__()\n",
    "        self.fc1 = orthogonal(nn.Linear(input_size, hidden_size))\n",
    "        self.activation = getattr(F, activation)\n",
    "        \n",
    "        if activation in ['relu', 'leaky_relu']:\n",
    "            torch.nn.init.xavier_uniform_(self.fc1.weight,gain = nn.init.calculate_gain(activation))\n",
    "        else:\n",
    "            torch.nn.init.xavier_uniform_(self.fc1.weight, gain=1)\n",
    "            \n",
    "        self.fc2 = nn.Linear(hidden_size, input_size, bias=False)\n",
    "        \n",
    "    def forward(self, x):\n",
    "        x = x.view(x.size(0), -1)\n",
    "        x = self.fc1(x)\n",
    "        x = self.activation(x)\n",
    "        x = self.fc2(x)\n",
    "\n",
    "        return x\n",
    "\n",
    "    def forwardToHidden(self, x): \n",
    "        x = x.view(x.size(0), -1)\n",
    "        x = self.fc1(x)\n",
    "        x = self.activation(x)\n",
    "\n",
    "        return x\n",
    "    \n",
    "    def encode(self, x):\n",
    "        x = x.view(x.size(0), -1)\n",
    "        x = torch.matmul(x, self.fc2.weight)\n",
    "        \n",
    "        return self.activation(x)"
   ]
  },
  {
   "cell_type": "code",
   "execution_count": 6,
   "id": "9423efde-7e6c-4b7f-87ba-595025d71b8c",
   "metadata": {},
   "outputs": [],
   "source": [
    "class MLPELM(nn.Module):\n",
    "    def __init__(self, input_size, output_size):\n",
    "        super(MLPELM, self).__init__()\n",
    "        self.ae1 = AENet(input_size, hidden_size = 1000)\n",
    "        self.ae2 = AENet(1000, hidden_size = 500)\n",
    "        self.lin = nn.Linear(500, 2, bias = False)\n",
    "        \n",
    "    def forward(self, x):\n",
    "        #x = x.view(x.size(0), -1)\n",
    "        x = self.ae1.encode(x)\n",
    "        x = self.ae2.encode(x)\n",
    "        x = self.lin(x)\n",
    "        \n",
    "        return x"
   ]
  },
  {
   "cell_type": "code",
   "execution_count": 7,
   "id": "eba6288a-d7e6-4fb7-8313-8b672af65f3a",
   "metadata": {},
   "outputs": [],
   "source": [
    "class AEDataset(Dataset):\n",
    "    def __init__(self, data_dir, transform=None):\n",
    "        self.transform = transform\n",
    "        self.data_dir = data_dir\n",
    "        train_x, _ = joblib.load(data_dir)\n",
    "        self.train_x, self.train_t = torch.Tensor(train_x[:, 2, :]), torch.Tensor(train_x[:, 2, :])\n",
    "        \n",
    "    def __len__(self):\n",
    "        return self.train_x.shape[0]\n",
    "    \n",
    "    def __getitem__(self, idx):\n",
    "        \n",
    "        X = self.train_x[idx]\n",
    "        t = self.train_t[idx]\n",
    "\n",
    "        if self.transform:\n",
    "            X = self.transform(X)\n",
    "            \n",
    "        return X, t"
   ]
  },
  {
   "cell_type": "code",
   "execution_count": 8,
   "id": "91d03519-c078-495c-882b-3e98a4c6dd6e",
   "metadata": {},
   "outputs": [],
   "source": [
    "class EQDataset(Dataset):\n",
    "    def __init__(self, data_dir, n, transform=None):\n",
    "        self.transform = transform\n",
    "        self.data_dir = data_dir\n",
    "        train_x, train_y = joblib.load(data_dir)\n",
    "        self.len = train_x.shape[0]\n",
    "        self.train_x, self.train_y = torch.Tensor(train_x.reshape((self.len, 3 * n))), torch.Tensor(train_y)\n",
    "        \n",
    "        \n",
    "    def __len__(self):\n",
    "        return self.len\n",
    "    \n",
    "    def __getitem__(self, idx):\n",
    "        \n",
    "        X = self.train_x[idx]\n",
    "        y = self.train_y[idx]\n",
    "\n",
    "        if self.transform:\n",
    "            X = self.transform(X)\n",
    "            \n",
    "        return X, y"
   ]
  },
  {
   "cell_type": "code",
   "execution_count": 9,
   "id": "49d9d5e6-8da2-4a18-a347-eda454238f67",
   "metadata": {},
   "outputs": [],
   "source": [
    "class pseudoInverse(object):\n",
    "    def __init__(self, params, C = 1e-2, L = 100):\n",
    "        self.params = list(params)\n",
    "        self.w = self.params[-1]\n",
    "        self.is_cuda = self.w.is_cuda\n",
    "        self.C = C\n",
    "        self.L = L\n",
    "        \n",
    "        self.w.data.fill_(0)\n",
    "        self.dimInput = self.w.data.size()[1]\n",
    "        self.dimOutput = self.w.data.size()[0]\n",
    "\n",
    "        self.B = Variable(torch.inverse(self.C * torch.eye(self.dimInput)), requires_grad=False)\n",
    "        if self.is_cuda:\n",
    "            self.B = self.B.cuda()\n",
    "            \n",
    "    def pseudoSparse(self, H, Y):\n",
    "        print('Big')\n",
    "        hth = torch.mm(H.t(), H)\n",
    "        dimInput = H.size()[1]\n",
    "        I = Variable(torch.eye(dimInput), requires_grad = False)\n",
    "\n",
    "        if self.is_cuda:\n",
    "            I = I.cuda()\n",
    "\n",
    "        if self.L > 0.0:\n",
    "            mu = torch.mean(H, dim = 0, keepdim = True)\n",
    "            S = H  - mu\n",
    "            S = torch.mm(S.t(), S)\n",
    "            self.B = Variable(torch.inverse(hth.data + self.C * (I.data + self.L * S.data)),requires_grad=False)\n",
    "        else:\n",
    "            self.B = Variable(torch.inverse(hth.data + self.C / I.data), requires_grad=False)\n",
    "\n",
    "        w = torch.mm(self.B, H.t())\n",
    "        w = torch.mm(w, Y)\n",
    "        self.w.data = w.t().data\n",
    "\n",
    "    def pseudoCompress(self, H, Y):\n",
    "        print('small')\n",
    "        hht = torch.mm(H, H.t())\n",
    "        numSamples = H.size()[0]\n",
    "        I = Variable(torch.eye(numSamples), requires_grad=False)\n",
    "\n",
    "        if self.is_cuda:\n",
    "            I = I.cuda()\n",
    "        self.B = Variable(torch.inverse(hht.data + self.C / I.data), requires_grad=False)\n",
    "\n",
    "        w = torch.mm(H.t(), self.B)\n",
    "        w = torch.mm(w, Y)\n",
    "        self.w.data = w.t().data\n",
    "        \n",
    "    def train_elm(self, H, Y, oneHotVectorize=False):\n",
    "        if oneHotVectorize:\n",
    "            targets = targets.view(Y.size(0),-1)\n",
    "            targets = self.oneHotVectorize(targets = targets)\n",
    "            \n",
    "        dimOut = H.size()[1]\n",
    "        dimInput = H.size()[0]\n",
    "        \n",
    "        if  dimInput > dimOut:\n",
    "            self.pseudoSparse(H, Y)\n",
    "        else:\n",
    "            self.pseudoCompress(H, Y)\n",
    "    \n",
    "    def oneHotVectorize(self,targets):\n",
    "        oneHotTarget = torch.zeros(targets.size()[0], self.dimOutput)\n",
    "\n",
    "        for i in range(targets.size()[0]):\n",
    "            oneHotTarget[i][int(targets[i].item())] = 1\n",
    "\n",
    "        if self.is_cuda:\n",
    "            oneHotTarget=oneHotTarget.cuda()\n",
    "            \n",
    "        oneHotTarget = Variable(oneHotTarget, requires_grad=False)\n",
    "\n",
    "        return oneHotTarget"
   ]
  },
  {
   "cell_type": "code",
   "execution_count": 10,
   "id": "bf224df1-6cea-46f2-b0dd-32c9447a67f7",
   "metadata": {
    "tags": []
   },
   "outputs": [],
   "source": [
    "n = 500\n",
    "train_data = f'../ISMP/dataset/trainset_v2_{n}_label4.jb'\n",
    "test_data = f'../ISMP/dataset/testset_v2_{n}_label4.jb'\n",
    "\n",
    "train_dataset = EQDataset(train_data, n)\n",
    "test_dataset = EQDataset(test_data, n)\n",
    "\n",
    "train_loader = DataLoader(dataset = train_dataset, batch_size = 6900, shuffle=True)\n",
    "test_loader = DataLoader(dataset = test_dataset, batch_size = 1726)"
   ]
  },
  {
   "cell_type": "code",
   "execution_count": 11,
   "id": "07b9192f-d63d-43ce-85d8-35d93cb7ff10",
   "metadata": {},
   "outputs": [],
   "source": [
    "# model.train()\n",
    "# for data, target in train_loader:\n",
    "#     if cuda:\n",
    "#         data, target = data.cuda(), target.cuda()\n",
    "#     data, target = Variable(data), Variable(target)\n",
    "#     hiddenOut = model.forwardToHidden(data)\n",
    "#     optimizer.train(hiddenOut, target)\n",
    "#     output = model.encode(data)"
   ]
  },
  {
   "cell_type": "code",
   "execution_count": 12,
   "id": "fe8664d8-b4d2-4d00-a7f8-c5f5b7a9196d",
   "metadata": {},
   "outputs": [],
   "source": [
    "model = MLPELM(1500, 2)\n",
    "if cuda:\n",
    "    model.cuda()\n",
    "#optimizer = pseudoInverse(params = model.parameters())"
   ]
  },
  {
   "cell_type": "code",
   "execution_count": 13,
   "id": "8299bbfc-d454-4c63-9b4d-2e70d4563c80",
   "metadata": {},
   "outputs": [],
   "source": [
    "# model.train()\n",
    "# for data, target in train_loader:\n",
    "#     if cuda:\n",
    "#         data, target = data.cuda(), target.cuda()\n",
    "        \n",
    "#     data, target = Variable(data), Variable(target)\n",
    "#     optimizer.train_multi(data, target)"
   ]
  },
  {
   "cell_type": "code",
   "execution_count": 14,
   "id": "36b2682e-bc97-4e57-b83c-8b9062d72117",
   "metadata": {},
   "outputs": [
    {
     "name": "stdout",
     "output_type": "stream",
     "text": [
      "ae1.fc1.bias \t torch.Size([1000])\n",
      "ae1.fc1.parametrizations.weight.original \t torch.Size([1000, 1500])\n",
      "ae1.fc2.weight \t torch.Size([1500, 1000])\n",
      "ae2.fc1.bias \t torch.Size([500])\n",
      "ae2.fc1.parametrizations.weight.original \t torch.Size([500, 1000])\n",
      "ae2.fc2.weight \t torch.Size([1000, 500])\n",
      "lin.weight \t torch.Size([2, 500])\n"
     ]
    }
   ],
   "source": [
    "for name, param in model.named_parameters():\n",
    "    print(name,'\\t', param.shape)"
   ]
  },
  {
   "cell_type": "code",
   "execution_count": 15,
   "id": "7cfe476c-654a-4f0d-8123-9a73a3943510",
   "metadata": {},
   "outputs": [],
   "source": [
    "X, y = train_dataset[:]"
   ]
  },
  {
   "cell_type": "code",
   "execution_count": 16,
   "id": "37ef81e0-552b-4215-a13d-b12739657cf3",
   "metadata": {},
   "outputs": [
    {
     "name": "stdout",
     "output_type": "stream",
     "text": [
      "Big\n",
      "Big\n"
     ]
    }
   ],
   "source": [
    "model.train()\n",
    "data = X\n",
    "for m in ['ae1', 'ae2']:\n",
    "    ae = getattr(model, m)\n",
    "    optimizer = pseudoInverse(params = ae.parameters())\n",
    "    if cuda:\n",
    "        data = data.cuda()\n",
    "    if m != 'lin':\n",
    "        data = Variable(data)\n",
    "        hiddenOut = ae.forwardToHidden(data)\n",
    "        optimizer.train_elm(hiddenOut, data)\n",
    "        data = ae.encode(data)\n",
    "    else:\n",
    "        if cuda:\n",
    "            target = y.cuda()\n",
    "        optimizer.train_elm(data, target, oneHotVectorize = True)"
   ]
  },
  {
   "cell_type": "code",
   "execution_count": 17,
   "id": "3a9541e8-121a-4dd6-9f3b-18fa37127812",
   "metadata": {},
   "outputs": [],
   "source": [
    "X_test, y_test = test_dataset[:]"
   ]
  },
  {
   "cell_type": "code",
   "execution_count": 18,
   "id": "e1fc8022-35f9-4019-ae57-2b4c8e3acb5c",
   "metadata": {},
   "outputs": [],
   "source": [
    "pred = model.forward(X_test.cuda())"
   ]
  },
  {
   "cell_type": "code",
   "execution_count": 19,
   "id": "30637d8c-0c40-4312-8baf-bc8de2600049",
   "metadata": {},
   "outputs": [],
   "source": [
    "pred = pred.data.max(1)[1]"
   ]
  },
  {
   "cell_type": "code",
   "execution_count": 20,
   "id": "059a1e93-2a28-4eb0-9b9c-713c8bce35cc",
   "metadata": {},
   "outputs": [
    {
     "data": {
      "text/plain": [
       "tensor(878)"
      ]
     },
     "execution_count": 20,
     "metadata": {},
     "output_type": "execute_result"
    }
   ],
   "source": [
    "pred.eq(y_test.cuda().data).cpu().sum()"
   ]
  },
  {
   "cell_type": "code",
   "execution_count": 21,
   "id": "d8cafd06-06c9-4294-8844-302fdd0466a1",
   "metadata": {},
   "outputs": [
    {
     "data": {
      "text/plain": [
       "tensor(1179, device='cuda:0')"
      ]
     },
     "execution_count": 21,
     "metadata": {},
     "output_type": "execute_result"
    }
   ],
   "source": [
    "pred.sum()"
   ]
  },
  {
   "cell_type": "code",
   "execution_count": 22,
   "id": "d735cf07-02ff-4067-a362-4c8c207b3186",
   "metadata": {},
   "outputs": [],
   "source": [
    "pred = model.forward(X.cuda())"
   ]
  },
  {
   "cell_type": "code",
   "execution_count": 23,
   "id": "8dfd084b-e0d0-41f2-8e75-ffe9d21d22ba",
   "metadata": {},
   "outputs": [],
   "source": [
    "pred = pred.data.max(1)[1]"
   ]
  },
  {
   "cell_type": "code",
   "execution_count": 24,
   "id": "4e1ba98b-1ec0-4daa-b9d4-a79b8cf18b1b",
   "metadata": {},
   "outputs": [
    {
     "data": {
      "text/plain": [
       "tensor(3315)"
      ]
     },
     "execution_count": 24,
     "metadata": {},
     "output_type": "execute_result"
    }
   ],
   "source": [
    "pred.eq(y.cuda().data).cpu().sum()"
   ]
  },
  {
   "cell_type": "code",
   "execution_count": 25,
   "id": "b20de189-0a11-4587-bae0-6af6c1677854",
   "metadata": {},
   "outputs": [
    {
     "data": {
      "text/plain": [
       "tensor(4573, device='cuda:0')"
      ]
     },
     "execution_count": 25,
     "metadata": {},
     "output_type": "execute_result"
    }
   ],
   "source": [
    "pred.sum()"
   ]
  },
  {
   "cell_type": "code",
   "execution_count": null,
   "id": "ab8cccbe-fbc6-4054-b47b-c20a409f0741",
   "metadata": {},
   "outputs": [],
   "source": []
  }
 ],
 "metadata": {
  "kernelspec": {
   "display_name": "AIML",
   "language": "python",
   "name": "aiml"
  },
  "language_info": {
   "codemirror_mode": {
    "name": "ipython",
    "version": 3
   },
   "file_extension": ".py",
   "mimetype": "text/x-python",
   "name": "python",
   "nbconvert_exporter": "python",
   "pygments_lexer": "ipython3",
   "version": "3.8.12"
  }
 },
 "nbformat": 4,
 "nbformat_minor": 5
}
