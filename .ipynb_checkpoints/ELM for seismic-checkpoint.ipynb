{
 "cells": [
  {
   "cell_type": "code",
   "execution_count": 1,
   "id": "3d2e31e4-fa9b-411c-abad-657e80d2b6b1",
   "metadata": {},
   "outputs": [],
   "source": [
    "%load_ext memory_profiler"
   ]
  },
  {
   "cell_type": "code",
   "execution_count": 2,
   "id": "fef3c888-7a13-4b6f-926e-52beefca9fed",
   "metadata": {},
   "outputs": [],
   "source": [
    "import joblib\n",
    "import numpy as np\n",
    "import scipy as sp\n",
    "\n",
    "import seaborn as sns\n",
    "import matplotlib.pyplot as plt"
   ]
  },
  {
   "cell_type": "code",
   "execution_count": 3,
   "id": "4d5f81a9-41e3-42b5-bb55-66c59c2c4385",
   "metadata": {},
   "outputs": [],
   "source": [
    "from sklearn.metrics import confusion_matrix"
   ]
  },
  {
   "cell_type": "markdown",
   "id": "f18c8094-914f-467d-978d-52446390d6d6",
   "metadata": {},
   "source": [
    "# Model"
   ]
  },
  {
   "cell_type": "code",
   "execution_count": 4,
   "id": "27b8bf67-e887-4510-9996-4e87984ebf4b",
   "metadata": {},
   "outputs": [],
   "source": [
    "def sigmoid(x, w, c):\n",
    "    data = 1 / (1 + np.exp(-(np.dot(x, w) + c)))\n",
    "    return np.array(data, dtype=float)\n",
    "\n",
    "def gaussian(x, w, c):\n",
    "    return np.exp(-c * np.linalg.norm(x - w))\n",
    "\n",
    "def hyperbolic_tangent(x, w, c):\n",
    "    return (1 - np.exp(-(np.dot(w, x) + c)))/(1 + np.exp(-(np.dot(x, w) + c)))\n",
    "\n",
    "def sigmoid_2(x):\n",
    "    z = np.exp(-x)\n",
    "    return 1 / (1 + z)\n",
    "\n",
    "def der_leaky_ReLU(x, w, c):\n",
    "    values = np.dot(x, w) + c\n",
    "    leaky_way1 = np.where(values > 0,values, values * 0.1) \n",
    "    return np.array(leaky_way1, dtype=float)"
   ]
  },
  {
   "cell_type": "code",
   "execution_count": 5,
   "id": "ce2cbce3-cb1e-4699-975f-a7c99ee8122f",
   "metadata": {},
   "outputs": [],
   "source": [
    "#Get function\n",
    "def getActivation(name):\n",
    "    return {\n",
    "        'sigmoid': sigmoid,\n",
    "        'sigmoid_2': sigmoid_2,\n",
    "        'gaussian': gaussian,\n",
    "        'hyperbolic_tangent': hyperbolic_tangent,\n",
    "        'relu':der_leaky_ReLU,\n",
    "    }[name]"
   ]
  },
  {
   "cell_type": "code",
   "execution_count": 6,
   "id": "c3096987-da2e-48cc-b08a-4e47d53ef16e",
   "metadata": {},
   "outputs": [],
   "source": [
    "class ELM:\n",
    "    def __init__ (self,num_hidden, activation='relu'):\n",
    "        self.activation = getActivation(activation)\n",
    "        self.L = num_hidden\n",
    "        \n",
    "    def fit(self,  X,  y, C=1):\n",
    "        self.X = X\n",
    "        self.Y = y\n",
    "        self.I = np.eye(self.L, self.L) \n",
    "        self.M = X.shape[1]\n",
    "        self.w =  np.random.normal(size=(self.M, self.L))\n",
    "        self.c = np.random.normal(size=(self.L))\n",
    "        self.C = C\n",
    "        \n",
    "        self.H = self.activation(self.X, self.w, self.c)\n",
    "        self.Beta = np.linalg.inv(self.H.T @ self.H + self.I /self.C) @ self.H.T @ self.Y\n",
    "        \n",
    "    def predict(self, X):\n",
    "        H_pre = self.activation(X, self.w, self.c)\n",
    "        return H_pre @ self.Beta"
   ]
  },
  {
   "cell_type": "markdown",
   "id": "735c1d4f-6899-45cd-aecc-7146e89269cc",
   "metadata": {},
   "source": [
    "# 100"
   ]
  },
  {
   "cell_type": "code",
   "execution_count": 7,
   "id": "aff74b38-8905-4144-8b4b-cb2d2a18b4f0",
   "metadata": {},
   "outputs": [],
   "source": [
    "n = 100\n",
    "train_data = f'../ISMP/dataset/trainset_v2_{n}_label4.jb'\n",
    "\n",
    "test_data = f'../ISMP/dataset/testset_v2_{n}_label4.jb'\n",
    "\n",
    "train_x, train_y = joblib.load(train_data)\n",
    "test_x, test_y = joblib.load(test_data)\n",
    "\n",
    "train_x = train_x.reshape((6900, 3 * n))\n",
    "test_x = test_x.reshape((1726, 3 * n))"
   ]
  },
  {
   "cell_type": "code",
   "execution_count": 8,
   "id": "a15a729f-859b-4afd-a836-b8474db4a722",
   "metadata": {},
   "outputs": [
    {
     "data": {
      "text/plain": [
       "0.7195828505214369"
      ]
     },
     "execution_count": 8,
     "metadata": {},
     "output_type": "execute_result"
    }
   ],
   "source": [
    "%timeit\n",
    "model = ELM(4000)\n",
    "model.fit(train_x, train_y, C=1)\n",
    "y_pred = model.predict(test_x) > 0.5\n",
    "sum(y_pred == test_y) / y_pred.shape[0]"
   ]
  },
  {
   "cell_type": "code",
   "execution_count": 9,
   "id": "d5c21490-86e2-4cb7-99cb-c8f30cb7336c",
   "metadata": {},
   "outputs": [
    {
     "data": {
      "text/plain": [
       "array([[769,  94],\n",
       "       [390, 473]], dtype=int64)"
      ]
     },
     "execution_count": 9,
     "metadata": {},
     "output_type": "execute_result"
    }
   ],
   "source": [
    "confusion_matrix(test_y, y_pred)"
   ]
  },
  {
   "cell_type": "markdown",
   "id": "6e6a9110-18ff-49b0-8a27-b2666bfe3712",
   "metadata": {},
   "source": [
    "# 200"
   ]
  },
  {
   "cell_type": "code",
   "execution_count": 10,
   "id": "11ac3b31-6a64-4265-a4ef-71b1e8b4d22a",
   "metadata": {},
   "outputs": [],
   "source": [
    "n = 200\n",
    "train_data = f'../ISMP/dataset/trainset_v2_{n}_label4.jb'\n",
    "\n",
    "test_data = f'../ISMP/dataset/testset_v2_{n}_label4.jb'\n",
    "\n",
    "train_x, train_y = joblib.load(train_data)\n",
    "test_x, test_y = joblib.load(test_data)\n",
    "\n",
    "train_x = train_x.reshape((6900, 3 * n))\n",
    "test_x = test_x.reshape((1726, 3 * n))"
   ]
  },
  {
   "cell_type": "code",
   "execution_count": 11,
   "id": "58904c57-f8db-43a1-a1e6-6f5dc095edcc",
   "metadata": {},
   "outputs": [
    {
     "data": {
      "text/plain": [
       "0.7074159907300116"
      ]
     },
     "execution_count": 11,
     "metadata": {},
     "output_type": "execute_result"
    }
   ],
   "source": [
    "%timeit\n",
    "model = ELM(4000)\n",
    "model.fit(train_x, train_y, C=1)\n",
    "y_pred = model.predict(test_x) > 0.5\n",
    "sum(y_pred == test_y) / y_pred.shape[0]"
   ]
  },
  {
   "cell_type": "code",
   "execution_count": 12,
   "id": "dad9cf0d-e87a-46f0-9a87-9e031e0029d2",
   "metadata": {},
   "outputs": [
    {
     "data": {
      "text/plain": [
       "array([[766,  97],\n",
       "       [408, 455]], dtype=int64)"
      ]
     },
     "execution_count": 12,
     "metadata": {},
     "output_type": "execute_result"
    }
   ],
   "source": [
    "confusion_matrix(test_y, y_pred)"
   ]
  },
  {
   "cell_type": "code",
   "execution_count": 26,
   "id": "34e49756-d2e3-45bb-a912-b7a1e424b657",
   "metadata": {},
   "outputs": [
    {
     "data": {
      "text/plain": [
       "863.0"
      ]
     },
     "execution_count": 26,
     "metadata": {},
     "output_type": "execute_result"
    }
   ],
   "source": [
    "test_y.sum()"
   ]
  },
  {
   "cell_type": "code",
   "execution_count": 29,
   "id": "4c1d65fb-6fb3-486c-960c-163b16b1c0f2",
   "metadata": {},
   "outputs": [
    {
     "data": {
      "text/plain": [
       "1726"
      ]
     },
     "execution_count": 29,
     "metadata": {},
     "output_type": "execute_result"
    }
   ],
   "source": [
    "863 * 2"
   ]
  },
  {
   "cell_type": "markdown",
   "id": "bd2fa2a8-6ee1-42f0-97c8-fe6baf2737ad",
   "metadata": {},
   "source": [
    "# 300"
   ]
  },
  {
   "cell_type": "code",
   "execution_count": 23,
   "id": "12454dae-73a1-4604-8a7d-75f645bed740",
   "metadata": {},
   "outputs": [],
   "source": [
    "#%%timeit\n",
    "n = 500\n",
    "train_data = f'../ISMP/dataset/trainset_v2_{n}_label4.jb'\n",
    "\n",
    "test_data = f'../ISMP/dataset/testset_v2_{n}_label4.jb'\n",
    "\n",
    "train_x, train_y = joblib.load(train_data)\n",
    "test_x, test_y = joblib.load(test_data)\n",
    "\n",
    "train_x = train_x.reshape((6900, 3 * n))\n",
    "test_x = test_x.reshape((1726, 3 * n))"
   ]
  },
  {
   "cell_type": "code",
   "execution_count": 24,
   "id": "d6496dde-8a5b-43f1-befb-a3125d2b6aba",
   "metadata": {},
   "outputs": [
    {
     "name": "stdout",
     "output_type": "stream",
     "text": [
      "peak memory: 375.58 MiB, increment: -407.50 MiB\n",
      "peak memory: 1234.64 MiB, increment: 859.06 MiB\n",
      "peak memory: 876.37 MiB, increment: 122.36 MiB\n"
     ]
    },
    {
     "data": {
      "text/plain": [
       "0.7282734646581692"
      ]
     },
     "execution_count": 24,
     "metadata": {},
     "output_type": "execute_result"
    }
   ],
   "source": [
    "%memit model = ELM(4000)\n",
    "%memit model.fit(train_x, train_y, C=1)\n",
    "%memit y_pred = model.predict(test_x) > 0.5\n",
    "sum(y_pred == test_y) / y_pred.shape[0]"
   ]
  },
  {
   "cell_type": "code",
   "execution_count": 15,
   "id": "9c930693-4226-4b24-bdc9-9f83707c7fa7",
   "metadata": {},
   "outputs": [
    {
     "name": "stdout",
     "output_type": "stream",
     "text": [
      "4.18 s ± 192 ms per loop (mean ± std. dev. of 7 runs, 1 loop each)\n"
     ]
    }
   ],
   "source": [
    "%%timeit\n",
    "model = ELM(4000)\n",
    "model.fit(train_x, train_y, C=1)\n",
    "y_pred = model.predict(test_x) > 0.5\n",
    "sum(y_pred == test_y) / y_pred.shape[0]"
   ]
  },
  {
   "cell_type": "code",
   "execution_count": 16,
   "id": "0642ba87-06e1-4ef1-9ea8-14a1d7371a35",
   "metadata": {},
   "outputs": [
    {
     "data": {
      "text/plain": [
       "array([[770,  93],\n",
       "       [388, 475]], dtype=int64)"
      ]
     },
     "execution_count": 16,
     "metadata": {},
     "output_type": "execute_result"
    }
   ],
   "source": [
    "confusion_matrix(test_y, y_pred)"
   ]
  },
  {
   "cell_type": "markdown",
   "id": "f22e1147-28f2-43aa-894c-c68698261ef8",
   "metadata": {},
   "source": [
    "https://docs.obspy.org/tutorial/advanced_exercise/advanced_exercise.html\n",
    "\n",
    "https://community.raspberryshake.org/t/converting-counts-in-acceleration/294/3\n",
    "\n",
    "https://notebook.community/junghao/fdsn/examples/GeoNet_FDSN_demo_dataselect\n",
    "\n",
    "https://towardsdatascience.com/speed-up-jupyter-notebooks-20716cbe2025"
   ]
  },
  {
   "cell_type": "code",
   "execution_count": 17,
   "id": "37cd07a5-fd0b-4333-8ecd-1b9396c59549",
   "metadata": {},
   "outputs": [],
   "source": [
    "import time"
   ]
  },
  {
   "cell_type": "code",
   "execution_count": 18,
   "id": "cd1fc7ad-15cd-4835-ae0c-77c6f15ed6b5",
   "metadata": {},
   "outputs": [],
   "source": [
    "st = time.time()\n",
    "n = 300\n",
    "train_data = f'../ISMP/dataset/trainset_v2_{n}_label4.jb'\n",
    "\n",
    "test_data = f'../ISMP/dataset/testset_v2_{n}_label4.jb'\n",
    "\n",
    "train_x, train_y = joblib.load(train_data)\n",
    "test_x, test_y = joblib.load(test_data)\n",
    "\n",
    "train_x = train_x.reshape((6900, 3 * n))\n",
    "test_x = test_x.reshape((1726, 3 * n))\n",
    "\n",
    "model = ELM(4000)\n",
    "model.fit(train_x, train_y, C=1)\n",
    "y_pred = model.predict(test_x) > 0.5\n",
    "sum(y_pred == test_y) / y_pred.shape[0]\n",
    "end = time.time()"
   ]
  },
  {
   "cell_type": "code",
   "execution_count": 19,
   "id": "df126ac3-4576-4ba9-a7d7-e31b57464a1c",
   "metadata": {},
   "outputs": [
    {
     "name": "stdout",
     "output_type": "stream",
     "text": [
      "4.595466375350952\n"
     ]
    }
   ],
   "source": [
    "print((end - st))"
   ]
  },
  {
   "cell_type": "code",
   "execution_count": 20,
   "id": "d78948ed-01c9-4cc3-868b-befa3d603cd3",
   "metadata": {},
   "outputs": [
    {
     "name": "stdout",
     "output_type": "stream",
     "text": [
      "22.97733187675476\n"
     ]
    }
   ],
   "source": [
    "print((end - st) * 5)"
   ]
  },
  {
   "cell_type": "markdown",
   "id": "1abb47be-0dd6-4b40-aca5-e65abf87403e",
   "metadata": {},
   "source": [
    "![train](Train.png)"
   ]
  },
  {
   "cell_type": "code",
   "execution_count": 21,
   "id": "3ea55f2f-87e0-4393-a871-542d141c4a66",
   "metadata": {},
   "outputs": [
    {
     "data": {
      "text/plain": [
       "305.0"
      ]
     },
     "execution_count": 21,
     "metadata": {},
     "output_type": "execute_result"
    }
   ],
   "source": [
    "1525 / 5"
   ]
  },
  {
   "cell_type": "code",
   "execution_count": null,
   "id": "827b12fd-0053-4ed4-b85d-cbd29401fa55",
   "metadata": {},
   "outputs": [],
   "source": []
  }
 ],
 "metadata": {
  "kernelspec": {
   "display_name": "seismic",
   "language": "python",
   "name": "seismic"
  },
  "language_info": {
   "codemirror_mode": {
    "name": "ipython",
    "version": 3
   },
   "file_extension": ".py",
   "mimetype": "text/x-python",
   "name": "python",
   "nbconvert_exporter": "python",
   "pygments_lexer": "ipython3",
   "version": "3.8.12"
  }
 },
 "nbformat": 4,
 "nbformat_minor": 5
}
