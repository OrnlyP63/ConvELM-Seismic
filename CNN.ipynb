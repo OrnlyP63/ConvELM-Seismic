{
 "cells": [
  {
   "cell_type": "code",
   "execution_count": 1,
   "id": "1b0a19d2-dd90-4ff7-b132-69699e6942c3",
   "metadata": {},
   "outputs": [],
   "source": [
    "import torch\n",
    "import torch.nn as nn\n",
    "import torch.nn.functional as F\n",
    "import torch.optim as optim\n",
    "from torch.utils.data import Dataset, DataLoader\n",
    "\n",
    "from torch.autograd import Variable\n",
    "import time\n",
    "\n",
    "import joblib"
   ]
  },
  {
   "cell_type": "code",
   "execution_count": 2,
   "id": "1367b4b3-6252-4fdf-9747-b5302dc2ebd2",
   "metadata": {},
   "outputs": [],
   "source": [
    "cuda = torch.cuda.is_available()"
   ]
  },
  {
   "cell_type": "code",
   "execution_count": 3,
   "id": "a3dafa5f-1db5-4352-af5d-5f7e77d8614a",
   "metadata": {},
   "outputs": [],
   "source": [
    "train_data = f'../ISMP/dataset/trainset_v2_500_label4.jb'"
   ]
  },
  {
   "cell_type": "code",
   "execution_count": 4,
   "id": "bb8ed976-8624-492f-b2d9-f75b60f1811d",
   "metadata": {},
   "outputs": [],
   "source": [
    "def num_flat_features(x):\n",
    "    size = x.size()[1:]  # all dimensions except the batch dimension\n",
    "    num_features = 1\n",
    "    for s in size:\n",
    "        num_features *= s\n",
    "    return num_features"
   ]
  },
  {
   "cell_type": "code",
   "execution_count": 5,
   "id": "ff13a4c6-396e-40e5-bd02-e5507b7d9bca",
   "metadata": {},
   "outputs": [],
   "source": [
    "X, y = joblib.load(train_data)"
   ]
  },
  {
   "cell_type": "code",
   "execution_count": 6,
   "id": "9f5f5762-104e-483f-a47a-8baafdc1cd0b",
   "metadata": {
    "tags": []
   },
   "outputs": [],
   "source": [
    "X = torch.tensor(X, dtype = torch.float)"
   ]
  },
  {
   "cell_type": "code",
   "execution_count": 7,
   "id": "e1830f00-23a8-439d-a962-98cb13fb9d65",
   "metadata": {},
   "outputs": [],
   "source": [
    "cnn1d = nn.Conv1d(3, 5, kernel_size=5)\n",
    "m = nn.MaxPool1d(5, stride=2)\n",
    "lin = nn.Linear(246 * 5, 2, bias=False)"
   ]
  },
  {
   "cell_type": "code",
   "execution_count": 8,
   "id": "06144ad1-cdd0-4a77-b835-5c945a86916c",
   "metadata": {},
   "outputs": [],
   "source": [
    "x = cnn1d(X)\n",
    "x = m(x)\n",
    "x = F.leaky_relu(x)\n",
    "x = x.view(-1, num_flat_features(x))\n",
    "x = lin(x)"
   ]
  },
  {
   "cell_type": "code",
   "execution_count": 9,
   "id": "a4a4b2dc-3ccb-4117-8e1b-ad4f1158d7d4",
   "metadata": {},
   "outputs": [
    {
     "data": {
      "text/plain": [
       "torch.Size([6900, 2])"
      ]
     },
     "execution_count": 9,
     "metadata": {},
     "output_type": "execute_result"
    }
   ],
   "source": [
    "x.shape"
   ]
  },
  {
   "cell_type": "markdown",
   "id": "d6def6ab-1cbf-4b83-95ff-53b7be1c89ea",
   "metadata": {},
   "source": [
    "# Data"
   ]
  },
  {
   "cell_type": "code",
   "execution_count": 10,
   "id": "7b58a490-4864-4b2c-adfb-ab829c593a6f",
   "metadata": {},
   "outputs": [],
   "source": [
    "class EQDataset(Dataset):\n",
    "    def __init__(self, data_dir, transform=None):\n",
    "        self.transform = transform\n",
    "        self.data_dir = data_dir\n",
    "        train_x, train_y = joblib.load(data_dir)\n",
    "        self.train_x, self.train_y = torch.tensor(train_x, dtype = torch.float), torch.tensor(train_y, dtype = torch.float)\n",
    "        self.len = self.train_x.shape[0]\n",
    "        \n",
    "    def __len__(self):\n",
    "        return self.len\n",
    "    \n",
    "    def __getitem__(self, idx):\n",
    "        \n",
    "        X = self.train_x[idx]\n",
    "        y = self.train_y[idx]\n",
    "\n",
    "        if self.transform:\n",
    "            X = self.transform(X)\n",
    "            \n",
    "        return X, y"
   ]
  },
  {
   "cell_type": "code",
   "execution_count": 11,
   "id": "0be04c32-e7b4-4802-bb48-396358b6ed00",
   "metadata": {},
   "outputs": [],
   "source": [
    "class Net(nn.Module):\n",
    "    def __init__(self):\n",
    "        super(Net, self).__init__()\n",
    "        self.conv1 = nn.Conv1d(3, 5, kernel_size=5)\n",
    "        self.maxP1 = nn.MaxPool1d(5, stride=2)\n",
    "        self.lin = nn.Linear(246 * 5, 2, bias=False)\n",
    "        \n",
    "    def forward(self, x):\n",
    "        x = self.conv1(x)\n",
    "        x = self.maxP1(x)\n",
    "        x = F.leaky_relu(x)\n",
    "        x = x.view(-1, self.num_flat_features(x))\n",
    "        x = self.lin(x)\n",
    "        \n",
    "        return x\n",
    "    \n",
    "    def forwardToHidden(self, x):\n",
    "        x = self.conv1(x)\n",
    "        x = self.maxP1(x)\n",
    "        x = F.leaky_relu(x)\n",
    "        x = x.view(-1, self.num_flat_features(x))\n",
    "        \n",
    "        return x\n",
    "    \n",
    "    def num_flat_features(self, x):\n",
    "        size = x.size()[1:]  # all dimensions except the batch dimension\n",
    "        num_features = 1\n",
    "        for s in size:\n",
    "            num_features *= s\n",
    "        return num_features"
   ]
  },
  {
   "cell_type": "code",
   "execution_count": 12,
   "id": "786c7daf-986b-4f80-a037-482fd94ea1a0",
   "metadata": {},
   "outputs": [],
   "source": [
    "model = Net()"
   ]
  },
  {
   "cell_type": "code",
   "execution_count": 13,
   "id": "5d7b9d5d-2e74-4095-8a5a-79af79e7a79e",
   "metadata": {},
   "outputs": [
    {
     "data": {
      "text/plain": [
       "Net(\n",
       "  (conv1): Conv1d(3, 5, kernel_size=(5,), stride=(1,))\n",
       "  (maxP1): MaxPool1d(kernel_size=5, stride=2, padding=0, dilation=1, ceil_mode=False)\n",
       "  (lin): Linear(in_features=1230, out_features=2, bias=False)\n",
       ")"
      ]
     },
     "execution_count": 13,
     "metadata": {},
     "output_type": "execute_result"
    }
   ],
   "source": [
    "model"
   ]
  },
  {
   "cell_type": "code",
   "execution_count": 14,
   "id": "01caf03f-1775-4d25-b680-87c1049bb0e6",
   "metadata": {},
   "outputs": [
    {
     "data": {
      "text/plain": [
       "torch.Size([5, 3, 5])"
      ]
     },
     "execution_count": 14,
     "metadata": {},
     "output_type": "execute_result"
    }
   ],
   "source": [
    "list(model.parameters())[0].shape"
   ]
  },
  {
   "cell_type": "code",
   "execution_count": 15,
   "id": "6ed55483-14b4-4295-ba74-463da8eb0003",
   "metadata": {},
   "outputs": [
    {
     "data": {
      "text/plain": [
       "torch.Size([5])"
      ]
     },
     "execution_count": 15,
     "metadata": {},
     "output_type": "execute_result"
    }
   ],
   "source": [
    "list(model.parameters())[1].shape"
   ]
  },
  {
   "cell_type": "code",
   "execution_count": 16,
   "id": "57a3941e-0c07-4588-b277-da293b782c3c",
   "metadata": {},
   "outputs": [
    {
     "data": {
      "text/plain": [
       "torch.Size([2, 1230])"
      ]
     },
     "execution_count": 16,
     "metadata": {},
     "output_type": "execute_result"
    }
   ],
   "source": [
    "list(model.parameters())[2].shape"
   ]
  },
  {
   "cell_type": "code",
   "execution_count": 17,
   "id": "8a8c2c57-b1d9-4118-9532-c25fc6d115eb",
   "metadata": {},
   "outputs": [],
   "source": [
    "class pseudoInverse(object):\n",
    "    def __init__(self, params, C=1e-2, L =100):\n",
    "        self.C = C\n",
    "        self.L = L\n",
    "        \n",
    "        self.params = list(params)\n",
    "        self.w = self.params[-1]\n",
    "        self.w.data.fill_(0)\n",
    "        self.cuda = self.w.is_cuda\n",
    "        self.dimInput, self.dimOutput = self.w.data.size()\n",
    "        \n",
    "    def pseudoSparse(self, H, oneHotTarget):\n",
    "        hth = torch.mm(H.t(), H) #[n_hidden, n_hidden]\n",
    "        dimHidden = H.size()[1]\n",
    "        I = Variable(torch.eye(dimHidden), requires_grad = False)\n",
    "        if self.cuda:\n",
    "            I = I.cuda()\n",
    "        \n",
    "        if self.L > 0.0:\n",
    "            mu = torch.mean(H, dim = 0, keepdim = True) #[1, n_features]\n",
    "            S = H - mu\n",
    "            S = torch.mm(S.t(), S)\n",
    "            self.B = Variable(torch.inverse(hth.data + self.C * (I.data + self.L * self.S)), requires_grad = False)\n",
    "        else:\n",
    "            self.B = Variable(torch.inverse(hth.data + self.C * I.data), requires_grad = False)\n",
    "            \n",
    "        w = torch.mm(self.B, H.t())\n",
    "        #print(w)\n",
    "        #print(oneHotTarget.reshape(-1, 2))\n",
    "        w = torch.mm(w, oneHotTarget)\n",
    "        self.w.data = w.t().data\n",
    "    \n",
    "    def pseudoCompress(self, H, oneHotTarget):\n",
    "        hht = torch.mm(H, H.t()) #[n_features, n_features]\n",
    "        numSample = H.size()[0]\n",
    "        I = Variable(torch.eye(numSample), requires_grad = False)\n",
    "        if self.cuda:\n",
    "            I = I.cuda()\n",
    "            \n",
    "        self.B = Variable(torch.inverse(hht.data + self.C * I.data), requires_grad = False)\n",
    "        w = torch.mm(H.t(), self.B)\n",
    "        w = torch.mm(w, oneHotTarget)\n",
    "        self.w.data = w.t().data\n",
    "        \n",
    "    def get_hidden(self, hidden):\n",
    "        return {'sparse':self.pseudoSparse, 'compress':self.pseudoCompress}[hidden]\n",
    "    \n",
    "    \n",
    "    def train(self, H, y, oneHot = True, hiddenType = 'sparse'):\n",
    "        y = y.view(y.size(0),-1)\n",
    "        \n",
    "        if oneHot:\n",
    "            oneHotTarget = self.oneHotVectorize(y)\n",
    "            \n",
    "        hidden = self.get_hidden(hiddenType)\n",
    "        hidden(H, oneHotTarget)\n",
    "\n",
    "        \n",
    "    def oneHotVectorize(self,targets):\n",
    "        oneHotTarget = torch.zeros(targets.size()[0], self.dimOutput)\n",
    "\n",
    "        for i in range(targets.size()[0]):\n",
    "            oneHotTarget[i][int(targets[i].item())] = 1\n",
    "\n",
    "        if self.cuda:\n",
    "            oneHotTarget=oneHotTarget.cuda()\n",
    "            \n",
    "        oneHotTarget = Variable(oneHotTarget, requires_grad=False)\n",
    "\n",
    "        return oneHotTarget"
   ]
  },
  {
   "cell_type": "code",
   "execution_count": 18,
   "id": "11c7960d-86c2-4f6f-bed0-d469b3e18f31",
   "metadata": {},
   "outputs": [],
   "source": [
    "train_dir = f'../ISMP/dataset/trainset_v2_500_label4.jb'\n",
    "test_dir = f'../ISMP/dataset/testing_500_label4.jb'\n",
    "\n",
    "train_datasets = EQDataset(train_dir)\n",
    "test_datasets = EQDataset(test_dir)\n",
    "\n",
    "X_train, y_train = train_datasets[:]\n",
    "X_test, y_test = test_datasets[:]"
   ]
  },
  {
   "cell_type": "code",
   "execution_count": 19,
   "id": "d292a468-866a-4522-8bad-f9ef902d2c8e",
   "metadata": {},
   "outputs": [],
   "source": [
    "model = Net()\n",
    "if cuda:\n",
    "    model.cuda()\n",
    "optimizer= pseudoInverse(params=model.parameters(), C=0.1,L=0)"
   ]
  },
  {
   "cell_type": "code",
   "execution_count": 20,
   "id": "d9ef44a8-304b-446b-b722-09fafd7d2075",
   "metadata": {
    "tags": []
   },
   "outputs": [
    {
     "name": "stdout",
     "output_type": "stream",
     "text": [
      "tensor(6120)\n"
     ]
    }
   ],
   "source": [
    "X_train, y_train = X_train.cuda(), y_train.cuda()\n",
    "X_train, y_train = Variable(X_train, requires_grad=False), Variable(y_train, requires_grad=False)\n",
    "\n",
    "hiddenOut = model.forwardToHidden(X_train)\n",
    "optimizer.train(hiddenOut, y_train)\n",
    "output = model.forward(X_train)\n",
    "pred = output.data.max(1)[1]\n",
    "\n",
    "print(pred.eq(y_train.data).cpu().sum())"
   ]
  },
  {
   "cell_type": "code",
   "execution_count": 21,
   "id": "d1171c1b-4c21-4088-8c94-9bafb2aafe6f",
   "metadata": {},
   "outputs": [
    {
     "data": {
      "text/plain": [
       "torch.Size([6900])"
      ]
     },
     "execution_count": 21,
     "metadata": {},
     "output_type": "execute_result"
    }
   ],
   "source": [
    "y_train.shape"
   ]
  },
  {
   "cell_type": "code",
   "execution_count": 22,
   "id": "013e51aa-b2fd-4a65-81ef-090b3dd29673",
   "metadata": {},
   "outputs": [
    {
     "data": {
      "text/plain": [
       "0.9065217391304348"
      ]
     },
     "execution_count": 22,
     "metadata": {},
     "output_type": "execute_result"
    }
   ],
   "source": [
    "6255 / 6900"
   ]
  },
  {
   "cell_type": "markdown",
   "id": "97f098a2-60fb-46a1-8126-92d6d0487c33",
   "metadata": {},
   "source": [
    "# Test"
   ]
  },
  {
   "cell_type": "code",
   "execution_count": 23,
   "id": "cadd141e-08b9-444c-ab98-0bba53a0ae3a",
   "metadata": {},
   "outputs": [
    {
     "name": "stdout",
     "output_type": "stream",
     "text": [
      "tensor(1689)\n"
     ]
    }
   ],
   "source": [
    "X_test, y_test = X_test.cuda(), y_test.cuda()\n",
    "X_train, y_test = Variable(X_test, requires_grad=False), Variable(y_test, requires_grad=False)\n",
    "\n",
    "output = model.forward(X_test)\n",
    "pred = output.data.max(1)[1]\n",
    "\n",
    "print(pred.eq(y_test.data).cpu().sum())"
   ]
  },
  {
   "cell_type": "code",
   "execution_count": 24,
   "id": "eff7c8b2-f8ce-49a0-91fc-cac7a87744b8",
   "metadata": {},
   "outputs": [
    {
     "data": {
      "text/plain": [
       "torch.Size([1751])"
      ]
     },
     "execution_count": 24,
     "metadata": {},
     "output_type": "execute_result"
    }
   ],
   "source": [
    "y_test.shape"
   ]
  },
  {
   "cell_type": "code",
   "execution_count": 26,
   "id": "418c9cf9-a205-4ed5-ad45-4dc0c4f6d90c",
   "metadata": {},
   "outputs": [
    {
     "data": {
      "text/plain": [
       "0.9645916619074815"
      ]
     },
     "execution_count": 26,
     "metadata": {},
     "output_type": "execute_result"
    }
   ],
   "source": [
    "1689 / 1751"
   ]
  },
  {
   "cell_type": "code",
   "execution_count": null,
   "id": "c288a98a-5382-4107-8a9f-4330e4c103b7",
   "metadata": {},
   "outputs": [],
   "source": []
  }
 ],
 "metadata": {
  "kernelspec": {
   "display_name": "AIML",
   "language": "python",
   "name": "aiml"
  },
  "language_info": {
   "codemirror_mode": {
    "name": "ipython",
    "version": 3
   },
   "file_extension": ".py",
   "mimetype": "text/x-python",
   "name": "python",
   "nbconvert_exporter": "python",
   "pygments_lexer": "ipython3",
   "version": "3.8.12"
  }
 },
 "nbformat": 4,
 "nbformat_minor": 5
}
